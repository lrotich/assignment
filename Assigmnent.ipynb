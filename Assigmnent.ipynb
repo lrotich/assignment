{
 "cells": [
  {
   "cell_type": "code",
   "execution_count": 1,
   "id": "0412b9aa-7e89-44c9-a62a-026ff46a3791",
   "metadata": {
    "tags": []
   },
   "outputs": [],
   "source": [
    "import numpy as np"
   ]
  },
  {
   "cell_type": "code",
   "execution_count": 2,
   "id": "2eddf6af-057d-402c-87c8-f98787f8d8e4",
   "metadata": {
    "tags": []
   },
   "outputs": [],
   "source": [
    "import numpy as np\n",
    "\n",
    "heights = np.array([160, 155, 172, 165, 180, 158, 175, 163, 171, 168])\n",
    "\n"
   ]
  },
  {
   "cell_type": "code",
   "execution_count": 4,
   "id": "09817986-2cbd-4ef3-aee1-a5a775dced52",
   "metadata": {
    "tags": []
   },
   "outputs": [
    {
     "name": "stdout",
     "output_type": "stream",
     "text": [
      "Mean height: 166.7\n",
      "Median height: 166.5\n",
      "Standard deviation of height: 7.5372408744845085\n"
     ]
    }
   ],
   "source": [
    "# Calculate the mean height\n",
    "mean_height = np.mean(heights)\n",
    "print(\"Mean height:\", mean_height)\n",
    "\n",
    "# Calculate the median height\n",
    "median_height = np.median(heights)\n",
    "print(\"Median height:\", median_height)\n",
    "\n",
    "# Calculate the standard deviation of height\n",
    "std_height = np.std(heights)\n",
    "print(\"Standard deviation of height:\", std_height)"
   ]
  },
  {
   "cell_type": "code",
   "execution_count": 5,
   "id": "56e978e0-3bf6-4404-819d-3ce785d6931c",
   "metadata": {
    "tags": []
   },
   "outputs": [
    {
     "name": "stdout",
     "output_type": "stream",
     "text": [
      "Original heights: [160 155 172 165 180 158 175 163 171 168]\n",
      "Normalized heights: [-0.88891945 -1.55229217  0.70317509 -0.22554673  1.76457144 -1.15426854\n",
      "  1.10119872 -0.49089581  0.57050054  0.17247691]\n"
     ]
    }
   ],
   "source": [
    "import numpy as np\n",
    "\n",
    "heights = np.array([160, 155, 172, 165, 180, 158, 175, 163, 171, 168])\n",
    "\n",
    "# Calculate the mean and standard deviation of the heights\n",
    "mean_height = np.mean(heights)\n",
    "std_height = np.std(heights)\n",
    "\n",
    "# Normalize the heights array\n",
    "normalized_heights = (heights - mean_height) / std_height\n",
    "\n",
    "print(\"Original heights:\", heights)\n",
    "print(\"Normalized heights:\", normalized_heights)"
   ]
  },
  {
   "cell_type": "code",
   "execution_count": 6,
   "id": "1accd428-7b46-4dba-9efb-d670e24c55bd",
   "metadata": {
    "tags": []
   },
   "outputs": [
    {
     "name": "stdout",
     "output_type": "stream",
     "text": [
      "The tallest student has a height of 180 cm.\n",
      "The shortest student has a height of 155 cm.\n"
     ]
    }
   ],
   "source": [
    "import numpy as np\n",
    "\n",
    "heights = np.array([160, 155, 172, 165, 180, 158, 175, 163, 171, 168])\n",
    "\n",
    "# Determine the index of the tallest and shortest students\n",
    "tallest_index = np.argmax(heights)\n",
    "shortest_index = np.argmin(heights)\n",
    "\n",
    "# Use the index to get the actual height of the tallest and shortest students\n",
    "tallest_height = heights[tallest_index]\n",
    "shortest_height = heights[shortest_index]\n",
    "\n",
    "print(\"The tallest student has a height of\", tallest_height, \"cm.\")\n",
    "print(\"The shortest student has a height of\", shortest_height, \"cm.\")"
   ]
  },
  {
   "cell_type": "code",
   "execution_count": 7,
   "id": "fbabe9dd-9f8e-45bc-92ab-5d085d973798",
   "metadata": {
    "tags": []
   },
   "outputs": [
    {
     "name": "stdout",
     "output_type": "stream",
     "text": [
      "The difference between the tallest and shortest students' heights is 25 cm.\n"
     ]
    }
   ],
   "source": [
    "import numpy as np\n",
    "\n",
    "heights = np.array([160, 155, 172, 165, 180, 158, 175, 163, 171, 168])\n",
    "\n",
    "# Determine the index of the tallest and shortest students\n",
    "tallest_index = np.argmax(heights)\n",
    "shortest_index = np.argmin(heights)\n",
    "\n",
    "# Use the index to get the actual height of the tallest and shortest students\n",
    "tallest_height = heights[tallest_index]\n",
    "shortest_height = heights[shortest_index]\n",
    "\n",
    "# Calculate the difference between the tallest and shortest students' heights\n",
    "height_diff = tallest_height - shortest_height\n",
    "\n",
    "print(\"The difference between the tallest and shortest students' heights is\", height_diff, \"cm.\")"
   ]
  },
  {
   "cell_type": "code",
   "execution_count": 8,
   "id": "ee5e1877-a730-493e-8f2b-cfd7f5404356",
   "metadata": {
    "tags": []
   },
   "outputs": [
    {
     "name": "stdout",
     "output_type": "stream",
     "text": [
      "Randomly selected heights: [160 168 171 175 163]\n"
     ]
    }
   ],
   "source": [
    "import numpy as np\n",
    "\n",
    "heights = np.array([160, 155, 172, 165, 180, 158, 175, 163, 171, 168])\n",
    "\n",
    "# Randomly select 5 heights without replacement\n",
    "random_heights = np.random.choice(heights, size=5, replace=False)\n",
    "\n",
    "print(\"Randomly selected heights:\", random_heights)\n"
   ]
  },
  {
   "cell_type": "code",
   "execution_count": null,
   "id": "eea0eb49-796c-4257-a7e4-4fbe95e3b522",
   "metadata": {},
   "outputs": [],
   "source": []
  }
 ],
 "metadata": {
  "kernelspec": {
   "display_name": "Python 3 (ipykernel)",
   "language": "python",
   "name": "python3"
  },
  "language_info": {
   "codemirror_mode": {
    "name": "ipython",
    "version": 3
   },
   "file_extension": ".py",
   "mimetype": "text/x-python",
   "name": "python",
   "nbconvert_exporter": "python",
   "pygments_lexer": "ipython3",
   "version": "3.11.3"
  }
 },
 "nbformat": 4,
 "nbformat_minor": 5
}
